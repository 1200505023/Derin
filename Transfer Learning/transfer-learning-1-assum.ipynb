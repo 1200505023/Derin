{
 "cells": [
  {
   "cell_type": "code",
   "execution_count": 1,
   "id": "2c24dd5f",
   "metadata": {},
   "outputs": [
    {
     "name": "stderr",
     "output_type": "stream",
     "text": [
      "C:\\anaconda3\\lib\\site-packages\\numpy\\_distributor_init.py:30: UserWarning: loaded more than 1 DLL from .libs:\n",
      "C:\\anaconda3\\lib\\site-packages\\numpy\\.libs\\libopenblas.FB5AE2TYXYH2IJRDKGDGQ3XBKLKTF43H.gfortran-win_amd64.dll\n",
      "C:\\anaconda3\\lib\\site-packages\\numpy\\.libs\\libopenblas64__v0.3.21-gcc_10_3_0.dll\n",
      "  warnings.warn(\"loaded more than 1 DLL from .libs:\"\n"
     ]
    }
   ],
   "source": [
    "import torch\n",
    "import torch.nn as nn\n",
    "import torchvision.models as models\n",
    "from torch.utils.data import Dataset, DataLoader\n",
    "from torchvision import datasets, transforms\n",
    "import torchvision\n",
    "# Örnek bir transform tanımla (istediğin şekilde düzenleyebilirsin)\n",
    "transform = transforms.Compose([\n",
    "    transforms.Resize((256, 256)),\n",
    "    transforms.ToTensor(),\n",
    "])\n",
    "\n",
    "# Veri setini yükle\n",
    "dataset = datasets.ImageFolder(root='./Kidney-Cancer', transform=transform)\n",
    "BATCH_SIZE = 16\n",
    "train_size = int(0.8 * len(dataset))\n",
    "test_size = len(dataset) - train_size\n",
    "\n",
    "train_set, test_set = torch.utils.data.random_split(dataset, [train_size, test_size])\n",
    "\n",
    "# Eğitim verisini %10 doğrulama için ayır\n",
    "val_size = int(0.1 * len(train_set))\n",
    "train_size -= val_size  # Geriye kalan kısım eğitim verisi olacak\n",
    "\n",
    "train_set, val_set = torch.utils.data.random_split(train_set, [train_size, val_size])\n",
    "\n",
    "# DataLoader'ları oluştur (batch_size'i ihtiyacınıza göre ayarlayabilirsin)\n",
    "train_loader = DataLoader(train_set, batch_size=BATCH_SIZE, shuffle=True)\n",
    "val_loader = DataLoader(val_set, batch_size=BATCH_SIZE, shuffle=False)\n",
    "test_loader = DataLoader(test_set, batch_size=BATCH_SIZE, shuffle=False)\n"
   ]
  },
  {
   "cell_type": "code",
   "execution_count": 4,
   "id": "d4dd83d3",
   "metadata": {},
   "outputs": [
    {
     "data": {
      "text/plain": [
       "<All keys matched successfully>"
      ]
     },
     "execution_count": 4,
     "metadata": {},
     "output_type": "execute_result"
    }
   ],
   "source": [
    "device = \"cuda\" if torch.cuda.is_available() else \"cpu\"\n",
    "\n",
    "weights = torchvision.models.EfficientNet_B0_Weights.DEFAULT  \n",
    "model = torchvision.models.efficientnet_b0(weights=weights).to(device)\n",
    "model.classifier  = nn.Linear(1280,len(dataset.classes))\n",
    "\n",
    "saved_weights = \"./transfer-learning-1.pth\"\n",
    "\n",
    "model.load_state_dict(torch.load(saved_weights))"
   ]
  },
  {
   "cell_type": "code",
   "execution_count": 8,
   "id": "b2d6aa66",
   "metadata": {},
   "outputs": [
    {
     "name": "stdout",
     "output_type": "stream",
     "text": [
      "Test Loss: 0.0005667432053305674, Test Accuracy: 99.8%\n"
     ]
    }
   ],
   "source": [
    "lossF = nn.CrossEntropyLoss()\n",
    "optim = torch.optim.Adam(model.parameters(), lr=0.001)\n",
    "\n",
    "\n",
    "model.eval().to(device)\n",
    "total_loss = 0\n",
    "acc = 0\n",
    "\n",
    "labelS = []\n",
    "preds = []\n",
    "\n",
    "with torch.no_grad():\n",
    "    for inputs, labels in test_loader:\n",
    "        inputs, labels = inputs.to(device), labels.to(device)\n",
    "        results = model(inputs)\n",
    "        loss = lossF(results, labels)\n",
    "        total_loss += loss.item()\n",
    "        _, predicted = torch.max(results, 1)\n",
    "        acc += (predicted == labels).sum().item()\n",
    "        \n",
    "        \n",
    "        labelS += labels.cpu().numpy().tolist()\n",
    "        preds += predicted.cpu().numpy().tolist()\n",
    "        \n",
    "        \n",
    "total_loss /= len(test_loader.dataset)\n",
    "accuracy = acc / len(test_loader.dataset) * 100.0\n",
    "\n",
    "print(f'Test Loss: {total_loss}, Test Accuracy: {accuracy}%')"
   ]
  },
  {
   "cell_type": "code",
   "execution_count": 21,
   "id": "ed316ebb",
   "metadata": {},
   "outputs": [
    {
     "name": "stdout",
     "output_type": "stream",
     "text": [
      "Accuracy score : 0.998\n",
      "Precision score : 0.9980079443892751\n",
      "Recall score : 0.998 \n",
      "\n",
      "Confusion matrix :\n",
      " [[1003    0]\n",
      " [   4  993]]\n",
      "\n",
      "Classification Report : \n",
      "              precision    recall  f1-score   support\n",
      "\n",
      "           0       1.00      1.00      1.00      1003\n",
      "           1       1.00      1.00      1.00       997\n",
      "\n",
      "    accuracy                           1.00      2000\n",
      "   macro avg       1.00      1.00      1.00      2000\n",
      "weighted avg       1.00      1.00      1.00      2000\n",
      "\n"
     ]
    }
   ],
   "source": [
    "from sklearn.metrics import accuracy_score, precision_score, recall_score, f1_score, confusion_matrix, classification_report\n",
    "import numpy as np\n",
    "#Test verisinin Accuracy, \n",
    "#Precision, Recall ve F1 skoru, Karmaşıklık Matrisi, Classification Report\n",
    "print(\"Accuracy score : {}\".format(accuracy_score(labelS,preds)))\n",
    "print(\"Precision score : {}\".format(precision_score(labelS,preds,average=\"weighted\")))\n",
    "print(\"Recall score : {} \".format(recall_score(labelS, preds, average='weighted')))\n",
    "print(\"\\nConfusion matrix :\\n {}\".format(confusion_matrix(labelS,preds)))\n",
    "print(\"\\nClassification Report : \\n{}\".format(classification_report(labelS,preds,target_names=[str(i) for i in range(len(dataset.classes))])))"
   ]
  },
  {
   "cell_type": "code",
   "execution_count": null,
   "id": "70472e53",
   "metadata": {},
   "outputs": [],
   "source": []
  }
 ],
 "metadata": {
  "kernelspec": {
   "display_name": "Python 3 (ipykernel)",
   "language": "python",
   "name": "python3"
  },
  "language_info": {
   "codemirror_mode": {
    "name": "ipython",
    "version": 3
   },
   "file_extension": ".py",
   "mimetype": "text/x-python",
   "name": "python",
   "nbconvert_exporter": "python",
   "pygments_lexer": "ipython3",
   "version": "3.9.13"
  }
 },
 "nbformat": 4,
 "nbformat_minor": 5
}
